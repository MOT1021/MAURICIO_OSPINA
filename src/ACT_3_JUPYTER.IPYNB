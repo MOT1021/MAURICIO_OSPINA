{
 "cells": [
  {
   "cell_type": "code",
   "execution_count": 5,
   "metadata": {},
   "outputs": [],
   "source": [
    "import matplotlib\n",
    "matplotlib.use('TkAgg')\n",
    "import matplotlib.pyplot as plt\n",
    "import pandas as pd\n",
    "from Pad_dataSet import Pad_dataSet\n",
    "import numpy as np\n",
    "import kagglehub\n",
    "from data_set_act_3 import ACT_3_dataSet"
   ]
  },
  {
   "cell_type": "markdown",
   "metadata": {},
   "source": [
    "PUNTO 1"
   ]
  },
  {
   "cell_type": "code",
   "execution_count": 2,
   "metadata": {},
   "outputs": [
    {
     "name": "stdout",
     "output_type": "stream",
     "text": [
      "   Granadilla  Tomates\n",
      "0          20       50\n"
     ]
    }
   ],
   "source": [
    "frutas = pd.DataFrame({\n",
    "    'Granadilla': [20],\n",
    "    'Tomates': [50]\n",
    "})\n",
    "\n",
    "# Mostrar el DataFrame\n",
    "print(frutas)"
   ]
  },
  {
   "cell_type": "markdown",
   "metadata": {},
   "source": [
    "PUNTO 2"
   ]
  },
  {
   "cell_type": "code",
   "execution_count": 3,
   "metadata": {},
   "outputs": [
    {
     "name": "stdout",
     "output_type": "stream",
     "text": [
      "             Granadilla  Tomates\n",
      "ventas 2021          20       50\n",
      "ventas 2022          49      100\n"
     ]
    }
   ],
   "source": [
    "ventas_frutas = pd.DataFrame(\n",
    "    {\n",
    "        \"Granadilla\": [20, 49],\n",
    "        \"Tomates\": [50, 100],\n",
    "    },\n",
    "    index=[\"ventas 2021\", \"ventas 2022\"]  \n",
    ")\n",
    "\n",
    "# Mostrar el resultado\n",
    "print(ventas_frutas)"
   ]
  },
  {
   "cell_type": "markdown",
   "metadata": {},
   "source": [
    "PUNTO 3"
   ]
  },
  {
   "cell_type": "code",
   "execution_count": 4,
   "metadata": {},
   "outputs": [
    {
     "name": "stdout",
     "output_type": "stream",
     "text": [
      "Cuchara     3 unidades\n",
      "Tenedor     2 unidades\n",
      "Cuchillo    4 unidades\n",
      "Plato       5 unidades\n",
      "Name: Cocina, dtype: object\n"
     ]
    }
   ],
   "source": [
    "utensilios = pd.Series(\n",
    "        [\"3 unidades\", \"2 unidades\", \"4 unidades\", \"5 unidades\"],\n",
    "        index=[\"Cuchara\", \"Tenedor\", \"Cuchillo\", \"Plato\"],\n",
    "        name=\"Cocina\")\n",
    "        \n",
    "print(utensilios)"
   ]
  },
  {
   "cell_type": "markdown",
   "metadata": {},
   "source": [
    "PUNTO 4"
   ]
  },
  {
   "cell_type": "code",
   "execution_count": null,
   "metadata": {},
   "outputs": [
    {
     "name": "stdout",
     "output_type": "stream",
     "text": [
      "Descargando dataset desde Kaggle...\n",
      "Ruta al dataset: C:\\Users\\DAVID GOMEZ\\.cache\\kagglehub\\datasets\\zynicide\\wine-reviews\\versions\\4\n",
      "No se encontró archivo ZIP pero se detectaron archivos CSV; se asume que el dataset ya se encuentra extraído.\n",
      "Leyendo C:\\Users\\DAVID GOMEZ\\.cache\\kagglehub\\datasets\\zynicide\\wine-reviews\\versions\\4\\winemag-data-130k-v2.csv...\n",
      "Creando/actualizando \n",
      "Leyendo C:\\Users\\DAVID GOMEZ\\.cache\\kagglehub\\datasets\\zynicide\\wine-reviews\\versions\\4\\winemag-data_first150k.csv...\n",
      "Creando/actualizando \n",
      "cvs creado correctamente en \n",
      "   Unnamed: 0 country                                        description  \\\n",
      "0           0      US  This tremendous 100% varietal wine hails from ...   \n",
      "\n",
      "         designation  points  price    province     region_1 region_2  \\\n",
      "0  Martha's Vineyard      96  235.0  California  Napa Valley     Napa   \n",
      "\n",
      "              variety winery  \n",
      "0  Cabernet Sauvignon  Heitz  \n"
     ]
    }
   ],
   "source": [
    "padclase = ACT_3_dataSet()\n",
    "dataset_path = padclase.download_dataset_zip()\n",
    "csv_dir = padclase.extract_zip_files(dataset_path)\n",
    "df = padclase.create_csv(csv_dir)\n",
    "# print(df.describe(),df.count,df.info())"
   ]
  },
  {
   "cell_type": "markdown",
   "metadata": {},
   "source": [
    "PUNTO 5"
   ]
  },
  {
   "cell_type": "markdown",
   "metadata": {},
   "source": [
    "PUNTO 6"
   ]
  },
  {
   "cell_type": "markdown",
   "metadata": {},
   "source": [
    "PUNTO 7"
   ]
  },
  {
   "cell_type": "markdown",
   "metadata": {},
   "source": [
    "PUNTO 8"
   ]
  },
  {
   "cell_type": "markdown",
   "metadata": {},
   "source": [
    "PUNTO 9"
   ]
  },
  {
   "cell_type": "markdown",
   "metadata": {},
   "source": [
    "PUNTO 10"
   ]
  },
  {
   "cell_type": "markdown",
   "metadata": {},
   "source": [
    "PUNTO 11"
   ]
  },
  {
   "cell_type": "markdown",
   "metadata": {},
   "source": [
    "PUNTO 12"
   ]
  }
 ],
 "metadata": {
  "kernelspec": {
   "display_name": "Python 3",
   "language": "python",
   "name": "python3"
  },
  "language_info": {
   "codemirror_mode": {
    "name": "ipython",
    "version": 3
   },
   "file_extension": ".py",
   "mimetype": "text/x-python",
   "name": "python",
   "nbconvert_exporter": "python",
   "pygments_lexer": "ipython3",
   "version": "3.9.2"
  }
 },
 "nbformat": 4,
 "nbformat_minor": 2
}
