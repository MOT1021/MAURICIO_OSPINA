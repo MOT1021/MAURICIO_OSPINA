{
 "cells": [
  {
   "cell_type": "code",
   "execution_count": null,
   "id": "225e5b23",
   "metadata": {},
   "outputs": [],
   "source": []
  },
  {
   "cell_type": "code",
   "execution_count": 1,
   "id": "d7c65090",
   "metadata": {},
   "outputs": [],
   "source": [
    "# This Python 3 environment comes with many helpful analytics libraries installed\n",
    "# It is defined by the kaggle/python Docker image: https://github.com/kaggle/docker-python\n",
    "# For example, here's several helpful packages to load\n",
    "\n",
    "import numpy as np\n",
    "import pandas as pd"
   ]
  },
  {
   "cell_type": "code",
   "execution_count": 2,
   "id": "844c7f46",
   "metadata": {},
   "outputs": [],
   "source": [
    "# Input data files are available in the read-only \"../input/\" directory\n",
    "# For example, running this (by clicking run or pressing Shift+Enter) will list all files under the input directory\n",
    "\n",
    "import os\n",
    "for dirname, _, filenames in os.walk('/src/src/static/kaggle'):\n",
    "    for filename in filenames:\n",
    "        print(os.path.join(dirname, filename))\n",
    "import requests\n",
    "from bs4 import BeautifulSoup\n",
    "import csv\n",
    "import time\n",
    "import os"
   ]
  },
  {
   "cell_type": "code",
   "execution_count": 3,
   "id": "d219ef6e",
   "metadata": {},
   "outputs": [],
   "source": [
    "# Directorios para Kaggle\n",
    "OUTPUT_DIR = \"src/src/static/kaggle\""
   ]
  },
  {
   "cell_type": "code",
   "execution_count": 4,
   "id": "ecbfcf99",
   "metadata": {},
   "outputs": [],
   "source": [
    "# URLs base para el scraping\n",
    "BASE_URL_BALOTO = \"https://www.baloto.com/resultados-baloto/\"\n",
    "BASE_URL_REVANCHA = \"https://www.baloto.com/resultados-revancha/\""
   ]
  },
  {
   "cell_type": "code",
   "execution_count": 5,
   "id": "c38587dc",
   "metadata": {},
   "outputs": [],
   "source": [
    "# Nombres de los archivos CSV de salida\n",
    "OUTPUT_FILE_BALOTO = os.path.join(OUTPUT_DIR, \"baloto.csv\")\n",
    "OUTPUT_FILE_REVANCHA = os.path.join(OUTPUT_DIR, \"revancha.csv\")"
   ]
  },
  {
   "cell_type": "code",
   "execution_count": 6,
   "id": "951dec41",
   "metadata": {},
   "outputs": [],
   "source": [
    "os.makedirs(\"src/src/static/kaggle\", exist_ok=True)"
   ]
  },
  {
   "cell_type": "code",
   "execution_count": 7,
   "id": "40364567",
   "metadata": {},
   "outputs": [],
   "source": [
    "for output_file in [OUTPUT_FILE_BALOTO, OUTPUT_FILE_REVANCHA]:\n",
    "    with open(output_file, mode=\"w\", newline=\"\", encoding=\"utf-8\") as file:\n",
    "        writer = csv.writer(file)\n",
    "        writer.writerow([\"Date\", \"C1\", \"C2\", \"C3\", \"C4\", \"C5\", \"SB\", \"#Sorteo\"])\n"
   ]
  },
  {
   "cell_type": "code",
   "execution_count": 8,
   "id": "ee8ab719",
   "metadata": {},
   "outputs": [],
   "source": [
    "# Función para extraer información de un sorteo específico\n",
    "def scrape_sorteo(url_base, output_file, sorteo_id, retries=3):\n",
    "    url = f\"{url_base}{sorteo_id}\"\n",
    "    headers = {\n",
    "        \"User-Agent\": \"Mozilla/5.0 (Windows NT 10.0; Win64; x64) AppleWebKit/537.36 (KHTML, like Gecko) Chrome/91.0.4472.124 Safari/537.36\"\n",
    "    }\n",
    "    attempt = 0\n",
    "    while attempt < retries:\n",
    "        try:\n",
    "            response = requests.get(url, headers=headers, timeout=10)\n",
    "            response.raise_for_status()\n",
    "            soup = BeautifulSoup(response.content, \"html.parser\")\n",
    "\n",
    "            # Extraer los datos del sorteo\n",
    "            sorteo_tag = soup.find(\"div\", class_=\"gotham-medium dark-blue fs-5\")\n",
    "            numero_sorteo = sorteo_tag.find(\"strong\").text.strip().replace(\"SORTEO \", \"\") if sorteo_tag else \"Número no disponible\"\n",
    "\n",
    "            fecha_tag = soup.find(\"div\", class_=\"gotham-medium dark-blue\")\n",
    "            fecha = fecha_tag.text.strip() if fecha_tag else \"Fecha no disponible\"\n",
    "\n",
    "            balotas_container = soup.find(\"div\", class_=\"container-balls-results\")\n",
    "            if balotas_container:\n",
    "                balotas = [\n",
    "                    ball.text.strip() for ball in balotas_container.find_all(\"div\", class_=\"yellow-ball gotham-medium\")\n",
    "                ]\n",
    "                superbalota_tag = balotas_container.find(\"div\", class_=\"red-ball gotham-medium\")\n",
    "                superbalota = superbalota_tag.text.strip() if superbalota_tag else \"SB no disponible\"\n",
    "\n",
    "                if len(balotas) >= 5:\n",
    "                    balota1, balota2, balota3, balota4, balota5 = balotas[:5]\n",
    "\n",
    "                    # Guardar los datos en el archivo CSV\n",
    "                    with open(output_file, mode=\"a\", newline=\"\", encoding=\"utf-8\") as file:\n",
    "                        writer = csv.writer(file)\n",
    "                        writer.writerow([fecha, balota1, balota2, balota3, balota4, balota5, superbalota, numero_sorteo])\n",
    "                    print(f\"Sorteo {numero_sorteo} extraído y guardado en {output_file}.\")\n",
    "                    return\n",
    "                else:\n",
    "                    print(f\"Datos incompletos para el sorteo {numero_sorteo}.\")\n",
    "                    return\n",
    "            else:\n",
    "                print(f\"No se encontró el contenedor de balotas para el sorteo {sorteo_id}.\")\n",
    "                return\n",
    "        except requests.exceptions.RequestException as e:\n",
    "            attempt += 1\n",
    "            if attempt < retries:\n",
    "                print(f\"Error de conexión para el sorteo {sorteo_id}. Reintentando ({attempt}/{retries})...\")\n",
    "                time.sleep(5)  # Esperar antes de reintentar\n",
    "            else:\n",
    "                print(f\"Error de conexión para el sorteo {sorteo_id}. No se pudo recuperar después de {retries} intentos: {e}\")\n",
    "                return\n",
    "        except Exception as e:\n",
    "            print(f\"Error procesando el sorteo {sorteo_id}: {e}\")\n",
    "            return\n"
   ]
  },
  {
   "cell_type": "code",
   "execution_count": 9,
   "id": "fd9b021a",
   "metadata": {},
   "outputs": [
    {
     "name": "stdout",
     "output_type": "stream",
     "text": [
      "Sorteo 2.491 extraído y guardado en src/src/static/kaggle\\baloto.csv.\n",
      "Sorteo 2.491 extraído y guardado en src/src/static/kaggle\\revancha.csv.\n",
      "Sorteo 2.490 extraído y guardado en src/src/static/kaggle\\baloto.csv.\n",
      "Sorteo 2.490 extraído y guardado en src/src/static/kaggle\\revancha.csv.\n",
      "Sorteo 2.489 extraído y guardado en src/src/static/kaggle\\baloto.csv.\n",
      "Sorteo 2.489 extraído y guardado en src/src/static/kaggle\\revancha.csv.\n",
      "Sorteo 2.488 extraído y guardado en src/src/static/kaggle\\baloto.csv.\n",
      "Sorteo 2.488 extraído y guardado en src/src/static/kaggle\\revancha.csv.\n",
      "Sorteo 2.487 extraído y guardado en src/src/static/kaggle\\baloto.csv.\n",
      "Sorteo 2.487 extraído y guardado en src/src/static/kaggle\\revancha.csv.\n",
      "Sorteo 2.486 extraído y guardado en src/src/static/kaggle\\baloto.csv.\n",
      "Sorteo 2.486 extraído y guardado en src/src/static/kaggle\\revancha.csv.\n",
      "Sorteo 2.485 extraído y guardado en src/src/static/kaggle\\baloto.csv.\n",
      "Sorteo 2.485 extraído y guardado en src/src/static/kaggle\\revancha.csv.\n",
      "Sorteo 2.484 extraído y guardado en src/src/static/kaggle\\baloto.csv.\n",
      "Sorteo 2.484 extraído y guardado en src/src/static/kaggle\\revancha.csv.\n",
      "Sorteo 2.483 extraído y guardado en src/src/static/kaggle\\baloto.csv.\n",
      "Sorteo 2.483 extraído y guardado en src/src/static/kaggle\\revancha.csv.\n",
      "Sorteo 2.482 extraído y guardado en src/src/static/kaggle\\baloto.csv.\n",
      "Sorteo 2.482 extraído y guardado en src/src/static/kaggle\\revancha.csv.\n",
      "Sorteo 2.481 extraído y guardado en src/src/static/kaggle\\baloto.csv.\n",
      "Sorteo 2.481 extraído y guardado en src/src/static/kaggle\\revancha.csv.\n",
      "Sorteo 2.480 extraído y guardado en src/src/static/kaggle\\baloto.csv.\n",
      "Sorteo 2.480 extraído y guardado en src/src/static/kaggle\\revancha.csv.\n",
      "Sorteo 2.479 extraído y guardado en src/src/static/kaggle\\baloto.csv.\n",
      "Sorteo 2.479 extraído y guardado en src/src/static/kaggle\\revancha.csv.\n",
      "Sorteo 2.478 extraído y guardado en src/src/static/kaggle\\baloto.csv.\n",
      "Sorteo 2.478 extraído y guardado en src/src/static/kaggle\\revancha.csv.\n",
      "Sorteo 2.477 extraído y guardado en src/src/static/kaggle\\baloto.csv.\n",
      "Sorteo 2.477 extraído y guardado en src/src/static/kaggle\\revancha.csv.\n",
      "Sorteo 2.476 extraído y guardado en src/src/static/kaggle\\baloto.csv.\n",
      "Sorteo 2.476 extraído y guardado en src/src/static/kaggle\\revancha.csv.\n",
      "Sorteo 2.475 extraído y guardado en src/src/static/kaggle\\baloto.csv.\n",
      "Sorteo 2.475 extraído y guardado en src/src/static/kaggle\\revancha.csv.\n",
      "Sorteo 2.474 extraído y guardado en src/src/static/kaggle\\baloto.csv.\n",
      "Sorteo 2.474 extraído y guardado en src/src/static/kaggle\\revancha.csv.\n",
      "Sorteo 2.473 extraído y guardado en src/src/static/kaggle\\baloto.csv.\n",
      "Sorteo 2.473 extraído y guardado en src/src/static/kaggle\\revancha.csv.\n",
      "Sorteo 2.472 extraído y guardado en src/src/static/kaggle\\baloto.csv.\n",
      "Sorteo 2.472 extraído y guardado en src/src/static/kaggle\\revancha.csv.\n",
      "Sorteo 2.471 extraído y guardado en src/src/static/kaggle\\baloto.csv.\n",
      "Sorteo 2.471 extraído y guardado en src/src/static/kaggle\\revancha.csv.\n",
      "Sorteo 2.470 extraído y guardado en src/src/static/kaggle\\baloto.csv.\n",
      "Sorteo 2.470 extraído y guardado en src/src/static/kaggle\\revancha.csv.\n",
      "Sorteo 2.469 extraído y guardado en src/src/static/kaggle\\baloto.csv.\n",
      "Sorteo 2.469 extraído y guardado en src/src/static/kaggle\\revancha.csv.\n",
      "Sorteo 2.468 extraído y guardado en src/src/static/kaggle\\baloto.csv.\n",
      "Sorteo 2.468 extraído y guardado en src/src/static/kaggle\\revancha.csv.\n",
      "Sorteo 2.467 extraído y guardado en src/src/static/kaggle\\baloto.csv.\n",
      "Sorteo 2.467 extraído y guardado en src/src/static/kaggle\\revancha.csv.\n",
      "Sorteo 2.466 extraído y guardado en src/src/static/kaggle\\baloto.csv.\n",
      "Sorteo 2.466 extraído y guardado en src/src/static/kaggle\\revancha.csv.\n",
      "Sorteo 2.465 extraído y guardado en src/src/static/kaggle\\baloto.csv.\n",
      "Sorteo 2.465 extraído y guardado en src/src/static/kaggle\\revancha.csv.\n",
      "Sorteo 2.464 extraído y guardado en src/src/static/kaggle\\baloto.csv.\n",
      "Sorteo 2.464 extraído y guardado en src/src/static/kaggle\\revancha.csv.\n",
      "Sorteo 2.463 extraído y guardado en src/src/static/kaggle\\baloto.csv.\n",
      "Sorteo 2.463 extraído y guardado en src/src/static/kaggle\\revancha.csv.\n",
      "Sorteo 2.462 extraído y guardado en src/src/static/kaggle\\baloto.csv.\n",
      "Sorteo 2.462 extraído y guardado en src/src/static/kaggle\\revancha.csv.\n",
      "Sorteo 2.461 extraído y guardado en src/src/static/kaggle\\baloto.csv.\n",
      "Sorteo 2.461 extraído y guardado en src/src/static/kaggle\\revancha.csv.\n",
      "Sorteo 2.460 extraído y guardado en src/src/static/kaggle\\baloto.csv.\n",
      "Sorteo 2.460 extraído y guardado en src/src/static/kaggle\\revancha.csv.\n"
     ]
    }
   ],
   "source": [
    "# Iterar sobre un rango de sorteos para Baloto\n",
    "START_SORTEO = 2491  # Cambiar según sea necesario\n",
    "END_SORTEO = 2460    # Cambiar según sea necesario\n",
    "\n",
    "for sorteo_id in range(START_SORTEO, END_SORTEO - 1, -1):\n",
    "    scrape_sorteo(BASE_URL_BALOTO, OUTPUT_FILE_BALOTO, sorteo_id)\n",
    "    scrape_sorteo(BASE_URL_REVANCHA, OUTPUT_FILE_REVANCHA, sorteo_id)\n",
    "    time.sleep(1)  # Pausa para evitar sobrecargar el servidor"
   ]
  },
  {
   "cell_type": "code",
   "execution_count": null,
   "id": "541939c1",
   "metadata": {},
   "outputs": [],
   "source": []
  },
  {
   "cell_type": "code",
   "execution_count": null,
   "id": "6298571a",
   "metadata": {},
   "outputs": [],
   "source": []
  }
 ],
 "metadata": {
  "kernelspec": {
   "display_name": ".venv",
   "language": "python",
   "name": "python3"
  },
  "language_info": {
   "codemirror_mode": {
    "name": "ipython",
    "version": 3
   },
   "file_extension": ".py",
   "mimetype": "text/x-python",
   "name": "python",
   "nbconvert_exporter": "python",
   "pygments_lexer": "ipython3",
   "version": "3.12.2"
  }
 },
 "nbformat": 4,
 "nbformat_minor": 5
}
