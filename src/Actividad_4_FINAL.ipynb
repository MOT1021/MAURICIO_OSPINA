{
 "cells": [
  {
   "cell_type": "markdown",
   "id": "1a920302",
   "metadata": {},
   "source": [
    "# Análisis de Datos del Baloto\n",
    "\n",
    "**Objetivo**: Aplicar técnicas de limpieza, visualización y análisis de datos a los resultados históricos del Baloto.\n",
    "\n",
    "**Dataset**: Resultados históricos desde 2017 hasta 2023 con columnas: Date, C1, C2, C3, C4, C5, SB"
   ]
  },
  {
   "cell_type": "markdown",
   "id": "d58e065f",
   "metadata": {},
   "source": [
    "# IMPORTE DE LIBRERIAS"
   ]
  },
  {
   "cell_type": "code",
   "execution_count": 1,
   "id": "4796e3a8",
   "metadata": {},
   "outputs": [],
   "source": [
    "#IMPORTE DE LIBRERIAS\n",
    "\n",
    "import matplotlib\n",
    "matplotlib.use('TkAgg')\n",
    "import matplotlib.pyplot as plt\n",
    "import pandas as pd\n",
    "from Pad_dataSet_Act_4 import Pad_dataSet\n",
    "import numpy as np\n",
    "import kagglehub\n",
    "import seaborn as sns\n",
    "import os\n",
    "import zipfile\n",
    "import tkinter\n",
    "from matplotlib.backends.backend_pdf import PdfPages\n",
    "from matplotlib.backends.backend_pdf import PdfPages\n",
    "from IPython.display import display, Markdown\n"
   ]
  },
  {
   "cell_type": "markdown",
   "id": "1c367dd0",
   "metadata": {},
   "source": [
    "# CARGAR DATOS"
   ]
  },
  {
   "cell_type": "code",
   "execution_count": 2,
   "id": "f927515f",
   "metadata": {},
   "outputs": [
    {
     "data": {
      "application/vnd.microsoft.datawrangler.viewer.v0+json": {
       "columns": [
        {
         "name": "index",
         "rawType": "int64",
         "type": "integer"
        },
        {
         "name": "Date",
         "rawType": "object",
         "type": "string"
        },
        {
         "name": "C1",
         "rawType": "int64",
         "type": "integer"
        },
        {
         "name": "C2",
         "rawType": "int64",
         "type": "integer"
        },
        {
         "name": "C3",
         "rawType": "int64",
         "type": "integer"
        },
        {
         "name": "C4",
         "rawType": "int64",
         "type": "integer"
        },
        {
         "name": "C5",
         "rawType": "int64",
         "type": "integer"
        },
        {
         "name": "SB",
         "rawType": "int64",
         "type": "integer"
        }
       ],
       "conversionMethod": "pd.DataFrame",
       "ref": "ced33e30-3c46-4926-98ce-ffd43193da5a",
       "rows": [
        [
         "0",
         "4/22/2017",
         "15",
         "28",
         "36",
         "37",
         "41",
         "10"
        ],
        [
         "1",
         "4/26/2017",
         "1",
         "2",
         "25",
         "31",
         "33",
         "14"
        ],
        [
         "2",
         "4/29/2017",
         "6",
         "19",
         "25",
         "28",
         "36",
         "1"
        ],
        [
         "3",
         "5/3/2017",
         "5",
         "6",
         "7",
         "12",
         "37",
         "6"
        ],
        [
         "4",
         "5/6/2017",
         "1",
         "20",
         "36",
         "39",
         "43",
         "10"
        ]
       ],
       "shape": {
        "columns": 7,
        "rows": 5
       }
      },
      "text/html": [
       "<div>\n",
       "<style scoped>\n",
       "    .dataframe tbody tr th:only-of-type {\n",
       "        vertical-align: middle;\n",
       "    }\n",
       "\n",
       "    .dataframe tbody tr th {\n",
       "        vertical-align: top;\n",
       "    }\n",
       "\n",
       "    .dataframe thead th {\n",
       "        text-align: right;\n",
       "    }\n",
       "</style>\n",
       "<table border=\"1\" class=\"dataframe\">\n",
       "  <thead>\n",
       "    <tr style=\"text-align: right;\">\n",
       "      <th></th>\n",
       "      <th>Date</th>\n",
       "      <th>C1</th>\n",
       "      <th>C2</th>\n",
       "      <th>C3</th>\n",
       "      <th>C4</th>\n",
       "      <th>C5</th>\n",
       "      <th>SB</th>\n",
       "    </tr>\n",
       "  </thead>\n",
       "  <tbody>\n",
       "    <tr>\n",
       "      <th>0</th>\n",
       "      <td>4/22/2017</td>\n",
       "      <td>15</td>\n",
       "      <td>28</td>\n",
       "      <td>36</td>\n",
       "      <td>37</td>\n",
       "      <td>41</td>\n",
       "      <td>10</td>\n",
       "    </tr>\n",
       "    <tr>\n",
       "      <th>1</th>\n",
       "      <td>4/26/2017</td>\n",
       "      <td>1</td>\n",
       "      <td>2</td>\n",
       "      <td>25</td>\n",
       "      <td>31</td>\n",
       "      <td>33</td>\n",
       "      <td>14</td>\n",
       "    </tr>\n",
       "    <tr>\n",
       "      <th>2</th>\n",
       "      <td>4/29/2017</td>\n",
       "      <td>6</td>\n",
       "      <td>19</td>\n",
       "      <td>25</td>\n",
       "      <td>28</td>\n",
       "      <td>36</td>\n",
       "      <td>1</td>\n",
       "    </tr>\n",
       "    <tr>\n",
       "      <th>3</th>\n",
       "      <td>5/3/2017</td>\n",
       "      <td>5</td>\n",
       "      <td>6</td>\n",
       "      <td>7</td>\n",
       "      <td>12</td>\n",
       "      <td>37</td>\n",
       "      <td>6</td>\n",
       "    </tr>\n",
       "    <tr>\n",
       "      <th>4</th>\n",
       "      <td>5/6/2017</td>\n",
       "      <td>1</td>\n",
       "      <td>20</td>\n",
       "      <td>36</td>\n",
       "      <td>39</td>\n",
       "      <td>43</td>\n",
       "      <td>10</td>\n",
       "    </tr>\n",
       "  </tbody>\n",
       "</table>\n",
       "</div>"
      ],
      "text/plain": [
       "        Date  C1  C2  C3  C4  C5  SB\n",
       "0  4/22/2017  15  28  36  37  41  10\n",
       "1  4/26/2017   1   2  25  31  33  14\n",
       "2  4/29/2017   6  19  25  28  36   1\n",
       "3   5/3/2017   5   6   7  12  37   6\n",
       "4   5/6/2017   1  20  36  39  43  10"
      ]
     },
     "execution_count": 2,
     "metadata": {},
     "output_type": "execute_result"
    }
   ],
   "source": [
    "df = pd.read_csv('baloto.csv')  # Asegúrate que este archivo está en la misma carpeta\n",
    "df.head()"
   ]
  },
  {
   "cell_type": "markdown",
   "id": "6076700c",
   "metadata": {},
   "source": [
    "# Limpieza de datos"
   ]
  },
  {
   "cell_type": "code",
   "execution_count": 3,
   "id": "a81ed538",
   "metadata": {},
   "outputs": [
    {
     "data": {
      "application/vnd.microsoft.datawrangler.viewer.v0+json": {
       "columns": [
        {
         "name": "index",
         "rawType": "int64",
         "type": "integer"
        },
        {
         "name": "Date",
         "rawType": "datetime64[ns]",
         "type": "datetime"
        },
        {
         "name": "C1",
         "rawType": "int64",
         "type": "integer"
        },
        {
         "name": "C2",
         "rawType": "int64",
         "type": "integer"
        },
        {
         "name": "C3",
         "rawType": "int64",
         "type": "integer"
        },
        {
         "name": "C4",
         "rawType": "int64",
         "type": "integer"
        },
        {
         "name": "C5",
         "rawType": "int64",
         "type": "integer"
        },
        {
         "name": "SB",
         "rawType": "int64",
         "type": "integer"
        }
       ],
       "conversionMethod": "pd.DataFrame",
       "ref": "68885589-3dfa-4e29-98ca-67113824b34d",
       "rows": [
        [
         "0",
         "2017-04-22 00:00:00",
         "15",
         "28",
         "36",
         "37",
         "41",
         "10"
        ],
        [
         "1",
         "2017-04-26 00:00:00",
         "1",
         "2",
         "25",
         "31",
         "33",
         "14"
        ],
        [
         "2",
         "2017-04-29 00:00:00",
         "6",
         "19",
         "25",
         "28",
         "36",
         "1"
        ],
        [
         "3",
         "2017-05-03 00:00:00",
         "5",
         "6",
         "7",
         "12",
         "37",
         "6"
        ],
        [
         "4",
         "2017-05-06 00:00:00",
         "1",
         "20",
         "36",
         "39",
         "43",
         "10"
        ]
       ],
       "shape": {
        "columns": 7,
        "rows": 5
       }
      },
      "text/html": [
       "<div>\n",
       "<style scoped>\n",
       "    .dataframe tbody tr th:only-of-type {\n",
       "        vertical-align: middle;\n",
       "    }\n",
       "\n",
       "    .dataframe tbody tr th {\n",
       "        vertical-align: top;\n",
       "    }\n",
       "\n",
       "    .dataframe thead th {\n",
       "        text-align: right;\n",
       "    }\n",
       "</style>\n",
       "<table border=\"1\" class=\"dataframe\">\n",
       "  <thead>\n",
       "    <tr style=\"text-align: right;\">\n",
       "      <th></th>\n",
       "      <th>Date</th>\n",
       "      <th>C1</th>\n",
       "      <th>C2</th>\n",
       "      <th>C3</th>\n",
       "      <th>C4</th>\n",
       "      <th>C5</th>\n",
       "      <th>SB</th>\n",
       "    </tr>\n",
       "  </thead>\n",
       "  <tbody>\n",
       "    <tr>\n",
       "      <th>0</th>\n",
       "      <td>2017-04-22</td>\n",
       "      <td>15</td>\n",
       "      <td>28</td>\n",
       "      <td>36</td>\n",
       "      <td>37</td>\n",
       "      <td>41</td>\n",
       "      <td>10</td>\n",
       "    </tr>\n",
       "    <tr>\n",
       "      <th>1</th>\n",
       "      <td>2017-04-26</td>\n",
       "      <td>1</td>\n",
       "      <td>2</td>\n",
       "      <td>25</td>\n",
       "      <td>31</td>\n",
       "      <td>33</td>\n",
       "      <td>14</td>\n",
       "    </tr>\n",
       "    <tr>\n",
       "      <th>2</th>\n",
       "      <td>2017-04-29</td>\n",
       "      <td>6</td>\n",
       "      <td>19</td>\n",
       "      <td>25</td>\n",
       "      <td>28</td>\n",
       "      <td>36</td>\n",
       "      <td>1</td>\n",
       "    </tr>\n",
       "    <tr>\n",
       "      <th>3</th>\n",
       "      <td>2017-05-03</td>\n",
       "      <td>5</td>\n",
       "      <td>6</td>\n",
       "      <td>7</td>\n",
       "      <td>12</td>\n",
       "      <td>37</td>\n",
       "      <td>6</td>\n",
       "    </tr>\n",
       "    <tr>\n",
       "      <th>4</th>\n",
       "      <td>2017-05-06</td>\n",
       "      <td>1</td>\n",
       "      <td>20</td>\n",
       "      <td>36</td>\n",
       "      <td>39</td>\n",
       "      <td>43</td>\n",
       "      <td>10</td>\n",
       "    </tr>\n",
       "  </tbody>\n",
       "</table>\n",
       "</div>"
      ],
      "text/plain": [
       "        Date  C1  C2  C3  C4  C5  SB\n",
       "0 2017-04-22  15  28  36  37  41  10\n",
       "1 2017-04-26   1   2  25  31  33  14\n",
       "2 2017-04-29   6  19  25  28  36   1\n",
       "3 2017-05-03   5   6   7  12  37   6\n",
       "4 2017-05-06   1  20  36  39  43  10"
      ]
     },
     "execution_count": 3,
     "metadata": {},
     "output_type": "execute_result"
    }
   ],
   "source": [
    "# Convertir la columna de fecha\n",
    "df['Date'] = pd.to_datetime(df['Date'], errors='coerce')\n",
    "\n",
    "# Eliminar duplicados y nulos\n",
    "df = df.drop_duplicates()\n",
    "df = df.dropna()\n",
    "\n",
    "# Convertir columnas numéricas a enteros\n",
    "numeros_cols = ['C1', 'C2', 'C3', 'C4', 'C5', 'SB']\n",
    "df[numeros_cols] = df[numeros_cols].apply(pd.to_numeric, errors='coerce')\n",
    "\n",
    "# Validar que los números estén entre 1 y 45\n",
    "for col in numeros_cols:\n",
    "    df = df[(df[col] >= 1) & (df[col] <= 45)]\n",
    "\n",
    "df.reset_index(drop=True, inplace=True)\n",
    "df.head()"
   ]
  },
  {
   "cell_type": "markdown",
   "id": "68999d3a",
   "metadata": {},
   "source": [
    "## VISUALIZACION Y ANALISIS DE LOS DATOS OBTENIDOS"
   ]
  },
  {
   "cell_type": "markdown",
   "id": "e3b10bee",
   "metadata": {},
   "source": [
    "Porcentaje de aparición de cada número"
   ]
  },
  {
   "cell_type": "code",
   "execution_count": 4,
   "id": "60a418c8",
   "metadata": {},
   "outputs": [
    {
     "name": "stderr",
     "output_type": "stream",
     "text": [
      "C:\\Users\\DAVID GOMEZ\\AppData\\Local\\Temp\\ipykernel_13228\\4176346397.py:10: FutureWarning: \n",
      "\n",
      "Passing `palette` without assigning `hue` is deprecated and will be removed in v0.14.0. Assign the `x` variable to `hue` and set `legend=False` for the same effect.\n",
      "\n",
      "  sns.barplot(x=porcentaje.index, y=porcentaje.values, palette=\"mako\")\n"
     ]
    }
   ],
   "source": [
    "# Unificar todos los números en una sola lista\n",
    "numeros = df[numeros_cols].values.flatten()\n",
    "\n",
    "# Calcular frecuencia y porcentaje\n",
    "frecuencia = pd.Series(numeros).value_counts().sort_index()\n",
    "porcentaje = (frecuencia / frecuencia.sum()) * 100\n",
    "\n",
    "# Gráfico\n",
    "plt.figure(figsize=(12, 6))\n",
    "sns.barplot(x=porcentaje.index, y=porcentaje.values, palette=\"mako\")\n",
    "plt.title(\"Porcentaje de aparición de cada número\")\n",
    "plt.xlabel(\"Número\")\n",
    "plt.ylabel(\"Porcentaje (%)\")\n",
    "plt.xticks(rotation=90)\n",
    "plt.show()"
   ]
  },
  {
   "cell_type": "markdown",
   "id": "55623a75",
   "metadata": {},
   "source": [
    "Análisis de Pares e Impares"
   ]
  },
  {
   "cell_type": "code",
   "execution_count": 5,
   "id": "baa7999b",
   "metadata": {},
   "outputs": [],
   "source": [
    "def contar_pares_impares(fila):\n",
    "    numeros = fila[numeros_cols]\n",
    "    pares = sum(n % 2 == 0 for n in numeros)\n",
    "    impares = len(numeros) - pares\n",
    "    return pd.Series({'PARES': pares, 'IMPARES': impares})\n",
    "\n",
    "df[['PARES', 'IMPARES']] = df.apply(contar_pares_impares, axis=1)\n",
    "\n",
    "# Histograma de pares\n",
    "sns.histplot(df['PARES'], bins=range(0, 7), kde=False, color='skyblue')\n",
    "plt.title(\"Distribución de números pares por sorteo\")\n",
    "plt.xlabel(\"Cantidad de pares\")\n",
    "plt.ylabel(\"Frecuencia\")\n",
    "plt.show()\n"
   ]
  },
  {
   "cell_type": "markdown",
   "id": "497e5770",
   "metadata": {},
   "source": [
    "Análisis de números consecutivos"
   ]
  },
  {
   "cell_type": "code",
   "execution_count": 6,
   "id": "86e628d2",
   "metadata": {},
   "outputs": [
    {
     "name": "stderr",
     "output_type": "stream",
     "text": [
      "C:\\Users\\DAVID GOMEZ\\AppData\\Local\\Temp\\ipykernel_13228\\2281173013.py:8: FutureWarning: \n",
      "\n",
      "Passing `palette` without assigning `hue` is deprecated and will be removed in v0.14.0. Assign the `x` variable to `hue` and set `legend=False` for the same effect.\n",
      "\n",
      "  sns.countplot(x='CONSECUTIVOS', data=df, palette='coolwarm')\n"
     ]
    }
   ],
   "source": [
    "def contar_consecutivos(fila):\n",
    "    numeros = sorted(fila[numeros_cols])\n",
    "    consecutivos = sum(1 for i in range(len(numeros)-1) if numeros[i+1] - numeros[i] == 1)\n",
    "    return consecutivos\n",
    "\n",
    "df['CONSECUTIVOS'] = df.apply(contar_consecutivos, axis=1)\n",
    "\n",
    "sns.countplot(x='CONSECUTIVOS', data=df, palette='coolwarm')\n",
    "plt.title(\"Cantidad de números consecutivos por sorteo\")\n",
    "plt.xlabel(\"Consecutivos\")\n",
    "plt.ylabel(\"Frecuencia\")\n",
    "plt.show()\n"
   ]
  },
  {
   "cell_type": "markdown",
   "id": "68bb44e8",
   "metadata": {},
   "source": [
    "Análisis por rangos"
   ]
  },
  {
   "cell_type": "code",
   "execution_count": 7,
   "id": "0855e897",
   "metadata": {},
   "outputs": [],
   "source": [
    "def clasificar_rango(n):\n",
    "    if n <= 15:\n",
    "        return \"1-15\"\n",
    "    elif n <= 30:\n",
    "        return \"16-30\"\n",
    "    else:\n",
    "        return \"31-45\"\n",
    "\n",
    "rango_series = pd.Series(numeros).dropna().astype(int).map(clasificar_rango)\n",
    "rango_frecuencia = rango_series.value_counts(normalize=True) * 100\n",
    "\n",
    "rango_frecuencia.plot(kind='bar', color='coral')\n",
    "plt.title(\"Porcentaje de aparición por rango numérico\")\n",
    "plt.ylabel(\"Porcentaje (%)\")\n",
    "plt.xlabel(\"Rango\")\n",
    "plt.show()\n"
   ]
  },
  {
   "cell_type": "markdown",
   "id": "08d21018",
   "metadata": {},
   "source": [
    "## GENERAR REPORTE EN PDF"
   ]
  },
  {
   "cell_type": "code",
   "execution_count": 8,
   "id": "764f9d99",
   "metadata": {},
   "outputs": [
    {
     "name": "stdout",
     "output_type": "stream",
     "text": [
      "Primeras filas del dataframe:\n",
      "        Date  C1  C2  C3  C4  C5  SB\n",
      "0  4/22/2017  15  28  36  37  41  10\n",
      "1  4/26/2017   1   2  25  31  33  14\n",
      "2  4/29/2017   6  19  25  28  36   1\n",
      "3   5/3/2017   5   6   7  12  37   6\n",
      "4   5/6/2017   1  20  36  39  43  10\n",
      "\n",
      "Columnas del dataframe:\n",
      "Index(['Date', 'C1', 'C2', 'C3', 'C4', 'C5', 'SB'], dtype='object')\n"
     ]
    },
    {
     "name": "stderr",
     "output_type": "stream",
     "text": [
      "C:\\Users\\DAVID GOMEZ\\AppData\\Local\\Temp\\ipykernel_13228\\1873827381.py:63: FutureWarning: \n",
      "\n",
      "Passing `palette` without assigning `hue` is deprecated and will be removed in v0.14.0. Assign the `x` variable to `hue` and set `legend=False` for the same effect.\n",
      "\n",
      "  sns.barplot(x=frecuencia_principales.index, y=frecuencia_principales.values, palette=\"viridis\")\n",
      "C:\\Users\\DAVID GOMEZ\\AppData\\Local\\Temp\\ipykernel_13228\\1873827381.py:74: FutureWarning: \n",
      "\n",
      "Passing `palette` without assigning `hue` is deprecated and will be removed in v0.14.0. Assign the `x` variable to `hue` and set `legend=False` for the same effect.\n",
      "\n",
      "  sns.barplot(x=frecuencia_sb.index, y=frecuencia_sb.values, palette=\"rocket\")\n",
      "C:\\Users\\DAVID GOMEZ\\AppData\\Local\\Temp\\ipykernel_13228\\1873827381.py:92: FutureWarning: \n",
      "\n",
      "Passing `palette` without assigning `hue` is deprecated and will be removed in v0.14.0. Assign the `x` variable to `hue` and set `legend=False` for the same effect.\n",
      "\n",
      "  sns.countplot(x='CONSECUTIVOS', data=df, palette='coolwarm')\n"
     ]
    },
    {
     "name": "stdout",
     "output_type": "stream",
     "text": [
      "Análisis completado. El reporte se ha guardado en: Analisis_Baloto_Resultados.pdf\n"
     ]
    }
   ],
   "source": [
    "df = pd.read_csv(\"baloto.csv\")\n",
    "print(\"Primeras filas del dataframe:\")\n",
    "print(df.head())\n",
    "print(\"\\nColumnas del dataframe:\")\n",
    "print(df.columns)\n",
    "\n",
    "# Limpieza de datos\n",
    "df['Date'] = pd.to_datetime(df['Date'], errors='coerce')\n",
    "df = df.drop_duplicates()\n",
    "df = df.dropna()\n",
    "\n",
    "# Convertir columnas numéricas\n",
    "numeros_columns = ['C1', 'C2', 'C3', 'C4', 'C5', 'SB']\n",
    "df[numeros_columns] = df[numeros_columns].apply(pd.to_numeric, errors='coerce')\n",
    "\n",
    "# Filtrar valores válidos (1-45 para números principales, 1-16 para SB)\n",
    "for col in ['C1', 'C2', 'C3', 'C4', 'C5']:\n",
    "    df = df[(df[col] >= 1) & (df[col] <= 45)]\n",
    "df = df[(df['SB'] >= 1) & (df['SB'] <= 16)]\n",
    "\n",
    "# Análisis de frecuencia\n",
    "numeros_principales = df[['C1', 'C2', 'C3', 'C4', 'C5']].values.flatten()\n",
    "frecuencia_principales = pd.Series(numeros_principales).value_counts().sort_index()\n",
    "porcentaje_principales = (frecuencia_principales / frecuencia_principales.sum()) * 100\n",
    "\n",
    "frecuencia_sb = df['SB'].value_counts().sort_index()\n",
    "porcentaje_sb = (frecuencia_sb / frecuencia_sb.sum()) * 100\n",
    "\n",
    "# Análisis de pares e impares\n",
    "def contar_pares_impares(fila):\n",
    "    numeros = fila[['C1', 'C2', 'C3', 'C4', 'C5']]\n",
    "    pares = sum(n % 2 == 0 for n in numeros)\n",
    "    return pd.Series({'PARES': pares, 'IMPARES': 5 - pares})\n",
    "\n",
    "df[['PARES', 'IMPARES']] = df.apply(contar_pares_impares, axis=1)\n",
    "\n",
    "# Números consecutivos\n",
    "def contar_consecutivos(fila):\n",
    "    numeros = sorted(fila[['C1', 'C2', 'C3', 'C4', 'C5']])\n",
    "    consecutivos = sum(1 for i in range(len(numeros)-1) if numeros[i+1] - numeros[i] == 1)\n",
    "    return consecutivos\n",
    "\n",
    "df['CONSECUTIVOS'] = df.apply(contar_consecutivos, axis=1)\n",
    "\n",
    "# Rangos numéricos\n",
    "def clasificar_rangos(num):\n",
    "    if num <= 15:\n",
    "        return \"1-15\"\n",
    "    elif num <= 30:\n",
    "        return \"16-30\"\n",
    "    else:\n",
    "        return \"31-45\"\n",
    "\n",
    "rango_series = pd.Series(numeros_principales).dropna().astype(int).map(clasificar_rangos)\n",
    "rango_frecuencia = rango_series.value_counts(normalize=True) * 100\n",
    "\n",
    "# Crear el PDF\n",
    "pdf_path = \"Analisis_Baloto_Resultados.pdf\"\n",
    "with PdfPages(pdf_path) as pdf:\n",
    "    \n",
    "    # Gráfico 1: Frecuencia números principales\n",
    "    plt.figure(figsize=(14, 6))\n",
    "    sns.barplot(x=frecuencia_principales.index, y=frecuencia_principales.values, palette=\"viridis\")\n",
    "    plt.title(\"Frecuencia de aparición de números principales (1-45)\")\n",
    "    plt.xlabel(\"Número\")\n",
    "    plt.ylabel(\"Veces que ha salido\")\n",
    "    plt.xticks(rotation=90)\n",
    "    plt.grid(axis='y', linestyle='--', alpha=0.7)\n",
    "    pdf.savefig()\n",
    "    plt.close()\n",
    "    \n",
    "    # Gráfico 2: Frecuencia Super Balota\n",
    "    plt.figure(figsize=(10, 5))\n",
    "    sns.barplot(x=frecuencia_sb.index, y=frecuencia_sb.values, palette=\"rocket\")\n",
    "    plt.title(\"Frecuencia de aparición de Super Balota (1-16)\")\n",
    "    plt.xlabel(\"Número de Super Balota\")\n",
    "    plt.ylabel(\"Veces que ha salido\")\n",
    "    pdf.savefig()\n",
    "    plt.close()\n",
    "    \n",
    "    # Gráfico 3: Distribución pares/impares\n",
    "    plt.figure(figsize=(10, 5))\n",
    "    df['PARES'].value_counts().sort_index().plot(kind='bar', color=['skyblue', 'lightgreen', 'salmon'])\n",
    "    plt.title(\"Distribución de cantidad de números pares por sorteo\")\n",
    "    plt.xlabel(\"Cantidad de pares (de 5 números)\")\n",
    "    plt.ylabel(\"Número de sorteos\")\n",
    "    pdf.savefig()\n",
    "    plt.close()\n",
    "    \n",
    "    # Gráfico 4: Números consecutivos\n",
    "    plt.figure(figsize=(10, 5))\n",
    "    sns.countplot(x='CONSECUTIVOS', data=df, palette='coolwarm')\n",
    "    plt.title(\"Cantidad de números consecutivos por sorteo\")\n",
    "    plt.xlabel(\"Números consecutivos\")\n",
    "    plt.ylabel(\"Número de sorteos\")\n",
    "    pdf.savefig()\n",
    "    plt.close()\n",
    "    \n",
    "    # Gráfico 5: Rangos numéricos\n",
    "    plt.figure(figsize=(8, 5))\n",
    "    rango_frecuencia.plot(kind='bar', color=['#FF9999', '#66B2FF', '#99FF99'])\n",
    "    plt.title(\"Distribución por rangos numéricos (números principales)\")\n",
    "    plt.ylabel(\"Porcentaje (%)\")\n",
    "    plt.xlabel(\"Rango\")\n",
    "    pdf.savefig()\n",
    "    plt.close()\n",
    "    \n",
    "    # Página de conclusiones\n",
    "    fig = plt.figure(figsize=(11, 8.5))\n",
    "    plt.axis('off')\n",
    "    conclusiones = \"\"\"\n",
    "     CONCLUSIONES DEL ANÁLISIS DEL BALOTO\n",
    "    \n",
    "    • Se analizaron {} sorteos históricos del Baloto.\n",
    "    \n",
    "    • Los números principales (1-45) muestran las siguientes frecuencias:\n",
    "      - Número más frecuente: {}\n",
    "      - Número menos frecuente: {}\n",
    "    \n",
    "    • La Super Balota (1-16) muestra:\n",
    "      - Número más frecuente: {}\n",
    "      - Número menos frecuente: {}\n",
    "    \n",
    "    • Distribución de pares/impares:\n",
    "      - Combinación más común: {} pares y {} impares\n",
    "    \n",
    "    • En {:.1f}% de los sorteos aparecen al menos 2 números consecutivos.\n",
    "    \n",
    "    • Distribución por rangos:\n",
    "      - 1-15: {:.1f}%\n",
    "      - 16-30: {:.1f}%\n",
    "      - 31-45: {:.1f}%\n",
    "    \"\"\".format(\n",
    "        len(df),\n",
    "        frecuencia_principales.idxmax(), frecuencia_principales.idxmin(),\n",
    "        frecuencia_sb.idxmax(), frecuencia_sb.idxmin(),\n",
    "        df['PARES'].mode()[0], 5 - df['PARES'].mode()[0],\n",
    "        (df['CONSECUTIVOS'] >= 2).mean() * 100,\n",
    "        rango_frecuencia.get(\"1-15\", 0),\n",
    "        rango_frecuencia.get(\"16-30\", 0),\n",
    "        rango_frecuencia.get(\"31-45\", 0)\n",
    "    )\n",
    "    plt.text(0.05, 0.5, conclusiones, fontsize=12, va=\"center\")\n",
    "    pdf.savefig(fig)\n",
    "    plt.close()\n",
    "\n",
    "print(f\"Análisis completado. El reporte se ha guardado en: {pdf_path}\")"
   ]
  }
 ],
 "metadata": {
  "kernelspec": {
   "display_name": ".venv",
   "language": "python",
   "name": "python3"
  },
  "language_info": {
   "codemirror_mode": {
    "name": "ipython",
    "version": 3
   },
   "file_extension": ".py",
   "mimetype": "text/x-python",
   "name": "python",
   "nbconvert_exporter": "python",
   "pygments_lexer": "ipython3",
   "version": "3.12.2"
  }
 },
 "nbformat": 4,
 "nbformat_minor": 5
}
