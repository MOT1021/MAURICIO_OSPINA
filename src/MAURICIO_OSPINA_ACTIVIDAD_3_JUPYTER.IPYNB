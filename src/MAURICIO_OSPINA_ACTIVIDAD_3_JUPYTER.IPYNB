{
 "cells": [
  {
   "cell_type": "code",
   "execution_count": null,
   "metadata": {},
   "outputs": [],
   "source": [
    "import matplotlib\n",
    "matplotlib.use('TkAgg')\n",
    "import matplotlib.pyplot as plt\n",
    "import pandas as pd\n",
    "from Pad_dataSet import Pad_dataSet\n",
    "import numpy as np\n",
    "import kagglehub\n",
    "from data_set_act_3 import ACT_3_dataSet"
   ]
  },
  {
   "cell_type": "code",
   "execution_count": null,
   "metadata": {},
   "outputs": [],
   "source": [
    "padclase = ACT_3_dataSet()\n",
    "dataset_path = padclase.download_dataset_zip()\n",
    "csv_dir = padclase.extract_zip_files(dataset_path)\n",
    "df = padclase.create_csv(csv_dir)\n",
    "print(df.describe(),df.count,df.info())"
   ]
  },
  {
   "cell_type": "markdown",
   "metadata": {},
   "source": [
    "PUNTO 1"
   ]
  },
  {
   "cell_type": "code",
   "execution_count": null,
   "metadata": {},
   "outputs": [],
   "source": [
    "frutas = pd.DataFrame({\n",
    "    'Granadilla': [20],\n",
    "    'Tomates': [50]\n",
    "})\n",
    "\n",
    "# Mostrar el DataFrame\n",
    "print(frutas)"
   ]
  },
  {
   "cell_type": "markdown",
   "metadata": {},
   "source": [
    "PUNTO 2"
   ]
  },
  {
   "cell_type": "code",
   "execution_count": null,
   "metadata": {},
   "outputs": [],
   "source": [
    "ventas_frutas = pd.DataFrame(\n",
    "    {\n",
    "        \"Granadilla\": [20, 49],\n",
    "        \"Tomates\": [50, 100],\n",
    "    },\n",
    "    index=[\"ventas 2021\", \"ventas 2022\"]  \n",
    ")\n",
    "\n",
    "# Mostrar el resultado\n",
    "print(ventas_frutas)"
   ]
  },
  {
   "cell_type": "markdown",
   "metadata": {},
   "source": [
    "PUNTO 3"
   ]
  },
  {
   "cell_type": "code",
   "execution_count": null,
   "metadata": {},
   "outputs": [],
   "source": [
    "utensilios = pd.Series(\n",
    "        [\"3 unidades\", \"2 unidades\", \"4 unidades\", \"5 unidades\"],\n",
    "        index=[\"Cuchara\", \"Tenedor\", \"Cuchillo\", \"Plato\"],\n",
    "        name=\"Cocina\")\n",
    "        \n",
    "print(utensilios)"
   ]
  },
  {
   "cell_type": "markdown",
   "metadata": {},
   "source": [
    "PUNTO 4"
   ]
  },
  {
   "cell_type": "code",
   "execution_count": null,
   "metadata": {},
   "outputs": [],
   "source": [
    "# padclase = ACT_3_dataSet()\n",
    "# dataset_path = padclase.download_dataset_zip()\n",
    "# csv_dir = padclase.extract_zip_files(dataset_path)\n",
    "# df = padclase.create_csv(csv_dir)\n",
    "# print(df.describe(),df.count,df.info())\n",
    "print(df)"
   ]
  },
  {
   "cell_type": "markdown",
   "metadata": {},
   "source": [
    "PUNTO 5"
   ]
  },
  {
   "cell_type": "code",
   "execution_count": null,
   "metadata": {},
   "outputs": [],
   "source": [
    "# padclase = ACT_3_dataSet()\n",
    "# dataset_path = padclase.download_dataset_zip()\n",
    "# csv_dir = padclase.extract_zip_files(dataset_path)\n",
    "# df = padclase.create_csv(csv_dir)\n",
    "print(df.head())"
   ]
  },
  {
   "cell_type": "markdown",
   "metadata": {},
   "source": [
    "PUNTO 6"
   ]
  },
  {
   "cell_type": "code",
   "execution_count": null,
   "metadata": {},
   "outputs": [],
   "source": [
    "# padclase = ACT_3_dataSet()\n",
    "# dataset_path = padclase.download_dataset_zip()\n",
    "# csv_dir = padclase.extract_zip_files(dataset_path)\n",
    "# df = padclase.create_csv(csv_dir)\n",
    "print(df.info())\n",
    "print(df.columns)\n"
   ]
  },
  {
   "cell_type": "markdown",
   "metadata": {},
   "source": [
    "PUNTO 7"
   ]
  },
  {
   "cell_type": "code",
   "execution_count": null,
   "metadata": {},
   "outputs": [],
   "source": [
    "# padclase = ACT_3_dataSet()\n",
    "# dataset_path = padclase.download_dataset_zip()\n",
    "# csv_dir = padclase.extract_zip_files(dataset_path)\n",
    "# df = padclase.create_csv(csv_dir)\n",
    "precio_promedio = df[\"price\"].mean() \n",
    "print(f\"El precio promedio es: ${precio_promedio:.2f}\")"
   ]
  },
  {
   "cell_type": "markdown",
   "metadata": {},
   "source": [
    "PUNTO 8"
   ]
  },
  {
   "cell_type": "code",
   "execution_count": null,
   "metadata": {},
   "outputs": [],
   "source": [
    "# padclase = ACT_3_dataSet()\n",
    "# dataset_path = padclase.download_dataset_zip()\n",
    "# csv_dir = padclase.extract_zip_files(dataset_path)\n",
    "# df = padclase.create_csv(csv_dir)\n",
    "precio_max = df[\"price\"].max() \n",
    "print(f\"El precio más alto pagado es: ${precio_max}\")"
   ]
  },
  {
   "cell_type": "markdown",
   "metadata": {},
   "source": [
    "PUNTO 9"
   ]
  },
  {
   "cell_type": "code",
   "execution_count": null,
   "metadata": {},
   "outputs": [],
   "source": [
    "vinos_california = df[df[\"province\"] == \"California\"]\n",
    "\n",
    "# Mostrar las primeras filas del nuevo DataFrame\n",
    "print(vinos_california)"
   ]
  },
  {
   "cell_type": "markdown",
   "metadata": {},
   "source": [
    "PUNTO 10"
   ]
  },
  {
   "cell_type": "code",
   "execution_count": null,
   "metadata": {},
   "outputs": [],
   "source": [
    "indice_max_precio = df[\"price\"].idxmax()\n",
    "\n",
    "vino_mas_caro = df.loc[indice_max_precio]\n",
    "\n",
    "print(vino_mas_caro)"
   ]
  },
  {
   "cell_type": "markdown",
   "metadata": {},
   "source": [
    "PUNTO 11"
   ]
  },
  {
   "cell_type": "code",
   "execution_count": null,
   "metadata": {},
   "outputs": [],
   "source": [
    "vinos_california = df[df[\"province\"] == \"California\"]\n",
    "\n",
    "variedades_comunes = vinos_california[\"variety\"].value_counts()\n",
    "\n",
    "print(variedades_comunes)"
   ]
  },
  {
   "cell_type": "markdown",
   "metadata": {},
   "source": [
    "PUNTO 12"
   ]
  },
  {
   "cell_type": "code",
   "execution_count": null,
   "metadata": {},
   "outputs": [],
   "source": [
    "vinos_california = df[df[\"province\"] == \"California\"]\n",
    "\n",
    "variedades_comunes = vinos_california[\"variety\"].value_counts()\n",
    "\n",
    "print(variedades_comunes.head(10))"
   ]
  }
 ],
 "metadata": {
  "kernelspec": {
   "display_name": ".venv",
   "language": "python",
   "name": "python3"
  },
  "language_info": {
   "codemirror_mode": {
    "name": "ipython",
    "version": 3
   },
   "file_extension": ".py",
   "mimetype": "text/x-python",
   "name": "python",
   "nbconvert_exporter": "python",
   "pygments_lexer": "ipython3",
   "version": "3.12.2"
  }
 },
 "nbformat": 4,
 "nbformat_minor": 2
}
