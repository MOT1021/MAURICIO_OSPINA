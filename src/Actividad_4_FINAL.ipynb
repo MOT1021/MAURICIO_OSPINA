{
 "cells": [
  {
   "cell_type": "markdown",
   "id": "1a920302",
   "metadata": {},
   "source": [
    "##prueba activida final"
   ]
  },
  {
   "cell_type": "code",
   "execution_count": null,
   "id": "a81ed538",
   "metadata": {},
   "outputs": [],
   "source": []
  },
  {
   "cell_type": "markdown",
   "id": "54ea03e0",
   "metadata": {},
   "source": []
  }
 ],
 "metadata": {
  "language_info": {
   "name": "python"
  }
 },
 "nbformat": 4,
 "nbformat_minor": 5
}
