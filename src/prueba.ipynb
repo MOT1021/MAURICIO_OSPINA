{
 "cells": [
  {
   "cell_type": "code",
   "execution_count": 1,
   "id": "7cb23c7b",
   "metadata": {},
   "outputs": [
    {
     "name": "stdout",
     "output_type": "stream",
     "text": [
      "Warning: Looks like you're using an outdated `kagglehub` version (installed: 0.3.10), please consider upgrading to the latest version (0.3.11).\n",
      "Downloading from https://www.kaggle.com/api/v1/datasets/download/jaforero/baloto-colombia?dataset_version_number=57...\n"
     ]
    },
    {
     "name": "stderr",
     "output_type": "stream",
     "text": [
      "100%|██████████| 10.5k/10.5k [00:00<?, ?B/s]"
     ]
    },
    {
     "name": "stdout",
     "output_type": "stream",
     "text": [
      "Extracting files...\n",
      "Path to dataset files: C:\\Users\\DAVID GOMEZ\\.cache\\kagglehub\\datasets\\jaforero\\baloto-colombia\\versions\\57\n"
     ]
    },
    {
     "name": "stderr",
     "output_type": "stream",
     "text": [
      "\n"
     ]
    }
   ],
   "source": [
    "import kagglehub\n",
    "\n",
    "# Download latest version\n",
    "path = kagglehub.dataset_download(\"jaforero/baloto-colombia\")\n",
    "\n",
    "print(\"Path to dataset files:\", path)"
   ]
  },
  {
   "cell_type": "code",
   "execution_count": null,
   "id": "2dd3fc50",
   "metadata": {},
   "outputs": [],
   "source": [
    "# Volver a leer el archivo subido recientemente y regenerar el PDF\n",
    "\n",
    "# Leer el archivo\n",
    "df = pd.read_csv(\"/mnt/data/baloto.csv\")\n",
    "\n",
    "# Limpieza rápida para permitir gráficos\n",
    "df['FECHA_SORTEO'] = pd.to_datetime(df['FECHA_SORTEO'], errors='coerce')\n",
    "df = df.drop_duplicates()\n",
    "df = df.dropna()\n",
    "df.columns = df.columns.str.strip().str.upper().str.replace(\" \", \"_\")\n",
    "columns_numeros = [col for col in df.columns if 'BALOTA' in col or 'NUMERO' in col]\n",
    "df[columns_numeros] = df[columns_numeros].apply(pd.to_numeric, errors='coerce')\n",
    "for col in columns_numeros:\n",
    "    df = df[(df[col] >= 1) & (df[col] <= 45)]\n",
    "\n",
    "# Porcentaje de aparición\n",
    "numeros = df[columns_numeros].values.flatten()\n",
    "frecuencia = pd.Series(numeros).value_counts().sort_index()\n",
    "porcentaje = (frecuencia / frecuencia.sum()) * 100\n",
    "\n",
    "# Pares e impares\n",
    "def contar_pares_impares(fila):\n",
    "    numeros = fila[columns_numeros]\n",
    "    pares = sum(n % 2 == 0 for n in numeros)\n",
    "    impares = len(numeros) - pares\n",
    "    return pd.Series({'PARES': pares, 'IMPARES': impares})\n",
    "\n",
    "df[['PARES', 'IMPARES']] = df.apply(contar_pares_impares, axis=1)\n",
    "\n",
    "# Números consecutivos\n",
    "def contar_consecutivos(fila):\n",
    "    numeros = sorted(fila[columns_numeros])\n",
    "    consecutivos = sum(1 for i in range(len(numeros)-1) if numeros[i+1] - numeros[i] == 1)\n",
    "    return consecutivos\n",
    "\n",
    "df['CONSECUTIVOS'] = df.apply(contar_consecutivos, axis=1)\n",
    "\n",
    "# Rangos numéricos\n",
    "def clasificar_rangos(num):\n",
    "    if num <= 15:\n",
    "        return \"1-15\"\n",
    "    elif num <= 30:\n",
    "        return \"16-30\"\n",
    "    else:\n",
    "        return \"31-45\"\n",
    "\n",
    "rango_series = pd.Series(numeros).dropna().astype(int).map(clasificar_rangos)\n",
    "rango_frecuencia = rango_series.value_counts(normalize=True) * 100\n",
    "\n",
    "# Crear el PDF\n",
    "pdf_path = \"/mnt/data/Resumen_Proyecto_Baloto.pdf\"\n",
    "pdf = PdfPages(pdf_path)\n",
    "\n",
    "# Gráfico 1: Porcentaje de aparición\n",
    "plt.figure(figsize=(12, 6))\n",
    "sns.barplot(x=porcentaje.index, y=porcentaje.values, palette=\"mako\")\n",
    "plt.title(\"Porcentaje de aparición de cada número del Baloto\")\n",
    "plt.xlabel(\"Número\")\n",
    "plt.ylabel(\"Porcentaje (%)\")\n",
    "plt.xticks(rotation=90)\n",
    "pdf.savefig()\n",
    "plt.close()\n",
    "\n",
    "# Gráfico 2: Distribución de pares\n",
    "plt.figure(figsize=(10, 5))\n",
    "sns.histplot(df['PARES'], bins=range(0, 7), kde=False, color='skyblue', label='Pares')\n",
    "plt.title(\"Distribución de cantidad de números pares por sorteo\")\n",
    "plt.xlabel(\"Cantidad de pares\")\n",
    "plt.ylabel(\"Número de sorteos\")\n",
    "plt.legend()\n",
    "pdf.savefig()\n",
    "plt.close()\n",
    "\n",
    "# Gráfico 3: Números consecutivos\n",
    "plt.figure(figsize=(10, 5))\n",
    "sns.countplot(x='CONSECUTIVOS', data=df, palette='coolwarm')\n",
    "plt.title(\"Cantidad de números consecutivos por sorteo\")\n",
    "plt.xlabel(\"Números consecutivos\")\n",
    "plt.ylabel(\"Número de sorteos\")\n",
    "pdf.savefig()\n",
    "plt.close()\n",
    "\n",
    "# Gráfico 4: Rangos numéricos\n",
    "plt.figure(figsize=(8, 5))\n",
    "rango_frecuencia.plot(kind='bar', color='coral')\n",
    "plt.title(\"Porcentaje de aparición por rango numérico\")\n",
    "plt.ylabel(\"Porcentaje (%)\")\n",
    "plt.xlabel(\"Rango\")\n",
    "pdf.savefig()\n",
    "plt.close()\n",
    "\n",
    "# Página de conclusiones\n",
    "fig = plt.figure(figsize=(11, 8.5))\n",
    "plt.axis('off')\n",
    "conclusiones = \"\"\"\n",
    "✅ CONCLUSIONES DEL ANÁLISIS DEL BALOTO\n",
    "\n",
    "• Se aplicaron procesos de limpieza de datos: fechas, tipos numéricos, nulos y validación de rangos.\n",
    "\n",
    "• El análisis de porcentajes muestra que ciertos números han aparecido con mayor frecuencia histórica.\n",
    "\n",
    "• Se identificaron diferencias en la distribución de números pares e impares.\n",
    "\n",
    "• La mayoría de los sorteos contienen entre 1 y 2 números consecutivos.\n",
    "\n",
    "• Se analizaron rangos de números (1–15, 16–30, 31–45) mostrando su proporción en la historia del Baloto.\n",
    "\n",
    "• Este tipo de análisis ayuda a visualizar patrones históricos, aunque no garantiza predicciones futuras.\n",
    "\"\"\"\n",
    "plt.text(0.05, 0.5, conclusiones, fontsize=12, va=\"center\")\n",
    "pdf.savefig(fig)\n",
    "plt.close()\n",
    "\n",
    "pdf.close()\n",
    "\n",
    "pdf_path\n"
   ]
  }
 ],
 "metadata": {
  "kernelspec": {
   "display_name": ".venv",
   "language": "python",
   "name": "python3"
  },
  "language_info": {
   "codemirror_mode": {
    "name": "ipython",
    "version": 3
   },
   "file_extension": ".py",
   "mimetype": "text/x-python",
   "name": "python",
   "nbconvert_exporter": "python",
   "pygments_lexer": "ipython3",
   "version": "3.12.2"
  }
 },
 "nbformat": 4,
 "nbformat_minor": 5
}
